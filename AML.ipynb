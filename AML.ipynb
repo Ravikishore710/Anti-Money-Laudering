{
  "cells": [
    {
      "cell_type": "code",
      "execution_count": null,
      "metadata": {
        "id": "DHXoFFPqk5NN"
      },
      "outputs": [],
      "source": [
        "import pandas as pd\n",
        "import os\n",
        "import zipfile\n",
        "from IPython.display import display\n",
        "import numpy as np\n",
        "import matplotlib.pyplot as plt\n",
        "import seaborn as sns\n",
        "from sklearn.model_selection import train_test_split\n",
        "from sklearn.preprocessing import StandardScaler, OneHotEncoder\n",
        "from sklearn.compose import ColumnTransformer\n",
        "from sklearn.linear_model import LogisticRegression\n",
        "from sklearn.ensemble import RandomForestClassifier\n",
        "import xgboost as xgb\n",
        "from sklearn.tree import DecisionTreeClassifier\n",
        "from imblearn.over_sampling import SMOTE\n",
        "from sklearn.metrics import classification_report, confusion_matrix, average_precision_score\n",
        "from sklearn.ensemble import IsolationForest\n",
        "from sklearn.svm import OneClassSVM\n",
        "\n",
        "zip_path = \"/content/PS_20174392719_1491204439457_log.csv.zip\"\n",
        "extract_path = \"/content\"\n",
        "csv_path = \"/content/PS_20174392719_1491204439457_log.csv\"\n",
        "\n",
        "if not os.path.exists('/content'):\n",
        "    os.makedirs('/content')\n",
        "\n",
        "with zipfile.ZipFile(zip_path, 'r') as zip_ref:\n",
        "    zip_ref.extractall(extract_path)\n",
        "\n",
        "df = pd.read_csv(csv_path)\n",
        "display(df.head())\n",
        "display(df.info())\n",
        "\n",
        "plt.figure(figsize=(10, 6))\n",
        "sns.countplot(data=df, x='type', order=df['type'].value_counts().index)\n",
        "plt.title('Distribution of Transaction Types')\n",
        "plt.xlabel('Transaction Type')\n",
        "plt.ylabel('Count')\n",
        "plt.show()\n",
        "\n",
        "fraud_types = df[df['isFraud'] == 1]['type'].value_counts()\n",
        "print(\"\\nTransaction types associated with fraud:\")\n",
        "print(fraud_types)\n",
        "\n",
        "filtered_df = df[df['type'].isin(['TRANSFER', 'CASH_OUT'])].copy()\n",
        "filtered_df['errorBalanceOrg'] = filtered_df['oldbalanceOrg'] - filtered_df['amount'] - filtered_df['newbalanceOrig']\n",
        "filtered_df['errorBalanceDest'] = filtered_df['newbalanceDest'] - filtered_df['oldbalanceDest'] - filtered_df['amount']\n",
        "filtered_df['hourOfDay'] = filtered_df['step'] % 24\n",
        "\n",
        "X = filtered_df.drop('isFraud', axis=1)\n",
        "y = filtered_df['isFraud']\n",
        "\n",
        "categorical_features = ['type']\n",
        "numerical_features = ['step', 'amount', 'oldbalanceOrg', 'newbalanceOrig',\n",
        "                      'oldbalanceDest', 'newbalanceDest', 'hourOfDay',\n",
        "                      'errorBalanceOrg', 'errorBalanceDest']\n",
        "\n",
        "preprocessor = ColumnTransformer(\n",
        "    transformers=[\n",
        "        ('num', StandardScaler(), numerical_features),\n",
        "        ('cat', OneHotEncoder(handle_unknown='ignore'), categorical_features)\n",
        "    ], remainder='drop')\n",
        "\n",
        "X_processed = preprocessor.fit_transform(X)\n",
        "onehot_feature_names = preprocessor.named_transformers_['cat'].get_feature_names_out(categorical_features)\n",
        "all_feature_names = np.concatenate([numerical_features, onehot_feature_names])\n",
        "X_processed_df = pd.DataFrame(X_processed, columns=all_feature_names, index=X.index)\n",
        "\n",
        "X_train, X_test, y_train, y_test = train_test_split(\n",
        "    X_processed_df, y, test_size=0.2, random_state=42, stratify=y\n",
        ")\n",
        "\n",
        "smote = SMOTE(random_state=42)\n",
        "X_train_smote, y_train_smote = smote.fit_resample(X_train, y_train)\n",
        "\n",
        "lr_model = LogisticRegression(solver='liblinear', random_state=42)\n",
        "lr_model.fit(X_train_smote, y_train_smote)\n",
        "y_pred_lr = lr_model.predict(X_test)\n",
        "y_proba_lr = lr_model.predict_proba(X_test)[:, 1]\n",
        "print(\"\\n--- Logistic Regression Evaluation ---\")\n",
        "print(\"AUPRC:\", f\"{average_precision_score(y_test, y_proba_lr):.4f}\")\n",
        "print(classification_report(y_test, y_pred_lr))\n",
        "\n",
        "rf_model = RandomForestClassifier(n_estimators=100, random_state=42, n_jobs=-1)\n",
        "rf_model.fit(X_train_smote, y_train_smote)\n",
        "y_pred_rf = rf_model.predict(X_test)\n",
        "y_proba_rf = rf_model.predict_proba(X_test)[:, 1]\n",
        "print(\"\\n--- Random Forest Evaluation ---\")\n",
        "print(\"AUPRC:\", f\"{average_precision_score(y_test, y_proba_rf):.4f}\")\n",
        "print(classification_report(y_test, y_pred_rf))\n",
        "\n",
        "xgb_model = xgb.XGBClassifier(objective='binary:logistic', eval_metric='logloss', use_label_encoder=False, random_state=42, n_jobs=-1)\n",
        "xgb_model.fit(X_train_smote, y_train_smote)\n",
        "y_pred_xgb = xgb_model.predict(X_test)\n",
        "y_proba_xgb = xgb_model.predict_proba(X_test)[:, 1]\n",
        "print(\"\\n--- XGBoost Evaluation ---\")\n",
        "print(\"AUPRC:\", f\"{average_precision_score(y_test, y_proba_xgb):.4f}\")\n",
        "print(classification_report(y_test, y_pred_xgb))\n",
        "\n",
        "dt_model = DecisionTreeClassifier(random_state=42)\n",
        "dt_model.fit(X_train_smote, y_train_smote)\n",
        "y_pred_dt = dt_model.predict(X_test)\n",
        "y_proba_dt = dt_model.predict_proba(X_test)[:, 1]\n",
        "print(\"\\n--- Decision Tree Evaluation ---\")\n",
        "print(\"AUPRC:\", f\"{average_precision_score(y_test, y_proba_dt):.4f}\")\n",
        "print(classification_report(y_test, y_pred_dt))\n",
        "\n",
        "print(\"\\n\\n--- Anomaly Detection (Method 1: Outlier Detection) ---\")\n",
        "contamination_rate = y_train.value_counts(normalize=True)[1]\n",
        "print(f\"Setting contamination/nu rate to: {contamination_rate:.4f}\")\n",
        "\n",
        "iso_forest_1 = IsolationForest(contamination=contamination_rate, random_state=42, n_jobs=-1)\n",
        "iso_forest_1.fit(X_train)\n",
        "y_pred_iso_1 = iso_forest_1.predict(X_test)\n",
        "y_pred_iso_mapped_1 = np.where(y_pred_iso_1 == -1, 1, 0)\n",
        "iso_scores_1 = iso_forest_1.decision_function(X_test)\n",
        "print(\"\\n--- Isolation Forest (Method 1) Evaluation ---\")\n",
        "print(\"AUPRC:\", f\"{average_precision_score(y_test, -iso_scores_1):.4f}\")\n",
        "print(classification_report(y_test, y_pred_iso_mapped_1))\n",
        "\n",
        "X_train_sample = X_train.sample(frac=0.1, random_state=42)\n",
        "one_class_svm_1 = OneClassSVM(nu=contamination_rate, kernel='rbf', gamma='auto')\n",
        "one_class_svm_1.fit(X_train_sample)\n",
        "y_pred_svm_1 = one_class_svm_1.predict(X_test)\n",
        "y_pred_svm_mapped_1 = np.where(y_pred_svm_1 == -1, 1, 0)\n",
        "svm_scores_1 = one_class_svm_1.decision_function(X_test)\n",
        "print(\"\\n--- One-Class SVM (Method 1) Evaluation ---\")\n",
        "print(\"AUPRC:\", f\"{average_precision_score(y_test, -svm_scores_1):.4f}\")\n",
        "print(classification_report(y_test, y_pred_svm_mapped_1))\n",
        "\n",
        "\n",
        "print(\"\\n\\n--- Anomaly Detection (Method 2: Novelty Detection) ---\")\n",
        "print(f\"Setting contamination/nu rate to: {contamination_rate:.4f}\")\n",
        "X_train_normal = X_train[y_train == 0]\n",
        "\n",
        "iso_forest_2 = IsolationForest(contamination=contamination_rate, random_state=42, n_jobs=-1)\n",
        "iso_forest_2.fit(X_train_normal)\n",
        "y_pred_iso_2 = iso_forest_2.predict(X_test)\n",
        "y_pred_iso_mapped_2 = np.where(y_pred_iso_2 == -1, 1, 0)\n",
        "iso_scores_2 = iso_forest_2.decision_function(X_test)\n",
        "print(\"\\n--- Isolation Forest (Method 2) Evaluation ---\")\n",
        "print(\"AUPRC:\", f\"{average_precision_score(y_test, -iso_scores_2):.4f}\")\n",
        "print(classification_report(y_test, y_pred_iso_mapped_2))\n",
        "\n",
        "X_train_normal_sample = X_train_normal.sample(frac=0.1, random_state=42)\n",
        "one_class_svm_2 = OneClassSVM(nu=contamination_rate, kernel='rbf', gamma='auto')\n",
        "one_class_svm_2.fit(X_train_normal_sample)\n",
        "y_pred_svm_2 = one_class_svm_2.predict(X_test)\n",
        "y_pred_svm_mapped_2 = np.where(y_pred_svm_2 == -1, 1, 0)\n",
        "svm_scores_2 = one_class_svm_2.decision_function(X_test)\n",
        "print(\"\\n--- One-Class SVM (Method 2) Evaluation ---\")\n",
        "print(\"AUPRC:\", f\"{average_precision_score(y_test, -svm_scores_2):.4f}\")\n",
        "print(classification_report(y_test, y_pred_svm_mapped_2))\n",
        "\n"
      ]
    },
    {
      "cell_type": "code",
      "execution_count": null,
      "metadata": {
        "id": "ba195021"
      },
      "outputs": [],
      "source": [
        "fraud_df = df[df['isFraud'] == 1]\n",
        "\n",
        "plt.figure(figsize=(10, 6))\n",
        "sns.countplot(data=fraud_df, x='type', order=fraud_df['type'].value_counts().index)\n",
        "plt.title('Distribution of Fraudulent Transaction Types')\n",
        "plt.xlabel('Transaction Type')\n",
        "plt.ylabel('Count')\n",
        "plt.show()"
      ]
    },
    {
      "cell_type": "code",
      "execution_count": null,
      "metadata": {
        "id": "014fceec"
      },
      "outputs": [],
      "source": [
        "plt.figure(figsize=(12, 6))\n",
        "plt.hist(filtered_df['amount'], bins=50, log=True)\n",
        "plt.xscale('log')\n",
        "plt.title('Distribution of Transaction Amounts (Log Scale)')\n",
        "plt.xlabel('Transaction Amount (Log Scale)')\n",
        "plt.ylabel('Frequency')\n",
        "plt.show()"
      ]
    },
    {
      "cell_type": "code",
      "execution_count": null,
      "metadata": {
        "id": "392bdae3"
      },
      "outputs": [],
      "source": [
        "plt.figure(figsize=(10, 6))\n",
        "sns.boxplot(data=filtered_df, y='amount', x='isFraud')\n",
        "plt.title('Distribution of Transaction Amounts by Fraud Status')\n",
        "plt.xlabel('Is Fraudulent (0: No, 1: Yes)')\n",
        "plt.ylabel('Transaction Amount')\n",
        "plt.show()"
      ]
    },
    {
      "cell_type": "code",
      "execution_count": null,
      "metadata": {
        "id": "29399932"
      },
      "outputs": [],
      "source": [
        "plt.figure(figsize=(10, 6))\n",
        "sns.violinplot(data=filtered_df, y='amount', x='isFraud', inner='quartile')\n",
        "plt.title('Distribution of Transaction Amounts by Fraud Status (Violin Plot)')\n",
        "plt.xlabel('Is Fraudulent (0: No, 1: Yes)')\n",
        "plt.ylabel('Transaction Amount')\n",
        "plt.show()"
      ]
    },
    {
      "cell_type": "code",
      "execution_count": null,
      "metadata": {
        "id": "0193d7c2"
      },
      "outputs": [],
      "source": [
        "sample_df = filtered_df.sample(n=10000, random_state=42) \n",
        "plt.figure(figsize=(12, 8))\n",
        "sns.scatterplot(data=sample_df, x='oldbalanceOrg', y='newbalanceOrig', hue='isFraud', alpha=0.6, s=10)\n",
        "plt.title('Originator Balance: Old vs. New (with Fraud Highlight) - Sampled Data')\n",
        "plt.xlabel('Old Balance (Originator)')\n",
        "plt.ylabel('New Balance (Originator)')\n",
        "plt.xscale('log')\n",
        "plt.yscale('log')\n",
        "plt.show()\n",
        "\n"
      ]
    },
    {
      "cell_type": "code",
      "execution_count": null,
      "metadata": {
        "id": "eb0ad254"
      },
      "outputs": [],
      "source": [
        "plt.figure(figsize=(12, 8))\n",
        "plt.hexbin(np.log10(filtered_df_nonzero['oldbalanceOrg']), np.log10(filtered_df_nonzero['newbalanceOrig']), gridsize=100, cmap='Blues', norm='log')\n",
        "plt.title('Originator Balance: Old vs. New (Hex Plot - Log10 Transformed)')\n",
        "plt.xlabel('Log10(Old Balance (Originator))')\n",
        "plt.ylabel('Log10(New Balance (Originator))')\n",
        "plt.colorbar(label='Transaction Count (Log Scale)')\n",
        "plt.show()"
      ]
    },
    {
      "cell_type": "code",
      "execution_count": null,
      "metadata": {
        "id": "0cf9ec7e"
      },
      "outputs": [],
      "source": [
        "plt.figure(figsize=(12, 6))\n",
        "sns.histplot(data=filtered_df[filtered_df['isFraud'] == 0], x='errorBalanceDest', bins=50, alpha=0.7, label='Normal', stat='density', common_norm=False)\n",
        "sns.histplot(data=filtered_df[filtered_df['isFraud'] == 1], x='errorBalanceDest', bins=50, alpha=0.7, label='Fraudulent', stat='density', common_norm=False)\n",
        "plt.title('Distribution of errorBalanceDest by Fraud Status (Density Plot)')\n",
        "plt.xlabel('Error in Destination Balance')\n",
        "plt.ylabel('Density')\n",
        "plt.xlim([-10000, 10000]) \n",
        "plt.legend()\n",
        "plt.show()"
      ]
    },
    {
      "cell_type": "code",
      "execution_count": null,
      "metadata": {
        "id": "c356f475"
      },
      "outputs": [],
      "source": [
        "plt.figure(figsize=(12, 6))\n",
        "sns.histplot(data=filtered_df[filtered_df['isFraud'] == 1], x='errorBalanceDest', bins=50, alpha=0.7, label='Fraudulent', color='orangered')\n",
        "plt.title('Distribution of errorBalanceDest for Fraudulent Transactions')\n",
        "plt.xlabel('Error in Destination Balance')\n",
        "plt.ylabel('Frequency')\n",
        "plt.legend()\n",
        "plt.show()"
      ]
    },
    {
      "cell_type": "code",
      "execution_count": null,
      "metadata": {
        "id": "d11d8339"
      },
      "outputs": [],
      "source": [
        "plt.figure(figsize=(12, 6))\n",
        "sns.histplot(data=filtered_df[filtered_df['isFraud'] == 0], x='errorBalanceDest', bins=50, alpha=0.7, label='Normal', stat='density', common_norm=False)\n",
        "sns.histplot(data=filtered_df[filtered_df['isFraud'] == 1], x='errorBalanceDest', bins=50, alpha=0.7, label='Fraudulent', stat='density', common_norm=False, color='orangered')\n",
        "plt.title('Distribution of errorBalanceDest by Fraud Status (Density Plot)')\n",
        "plt.xlabel('Error in Destination Balance')\n",
        "plt.ylabel('Density')\n",
        "plt.xlim([-5e6, 5e6]) \n",
        "plt.legend()\n",
        "plt.show()"
      ]
    },
    {
      "cell_type": "markdown",
      "metadata": {
        "id": "d4fabbcf"
      },
      "source": [
        "## Visualize transaction count by hour of day\n",
        "\n",
        "### Subtask:\n",
        "Create a line plot showing the number of transactions per hour of the day.\n"
      ]
    },
    {
      "cell_type": "markdown",
      "metadata": {
        "id": "2af8c66e"
      },
      "source": [
        "**Reasoning**:\n",
        "I need to group the filtered dataframe by 'hourOfDay' and count the transactions to create a line plot showing the number of transactions per hour.\n",
        "\n"
      ]
    },
    {
      "cell_type": "code",
      "execution_count": null,
      "metadata": {
        "id": "cac78452"
      },
      "outputs": [],
      "source": [
        "transactions_per_hour = filtered_df.groupby('hourOfDay').size()\n",
        "\n",
        "plt.figure(figsize=(12, 6))\n",
        "plt.plot(transactions_per_hour.index, transactions_per_hour.values)\n",
        "plt.title('Transaction Count by Hour of Day')\n",
        "plt.xlabel('Hour of Day')\n",
        "plt.ylabel('Number of Transactions')\n",
        "plt.xticks(range(0, 24)) # Ensure all hours from 0 to 23 are displayed on the x-axis\n",
        "plt.grid(True)\n",
        "plt.show()"
      ]
    },
    {
      "cell_type": "markdown",
      "metadata": {
        "id": "0d6880f3"
      },
      "source": [
        "## Visualize fraudulent transaction count by hour of day\n",
        "\n",
        "### Subtask:\n",
        "Create a line plot showing the number of fraudulent transactions per hour of the day.\n"
      ]
    },
    {
      "cell_type": "markdown",
      "metadata": {
        "id": "99795a42"
      },
      "source": [
        "**Reasoning**:\n",
        "Filter the DataFrame for fraudulent transactions, group by hour, count, and then create the line plot according to the instructions.\n",
        "\n"
      ]
    },
    {
      "cell_type": "code",
      "execution_count": null,
      "metadata": {
        "id": "22078ede"
      },
      "outputs": [],
      "source": [
        "fraud_by_hour = filtered_df[filtered_df['isFraud'] == 1].groupby('hourOfDay').size()\n",
        "\n",
        "plt.figure(figsize=(12, 6))\n",
        "plt.plot(fraud_by_hour.index, fraud_by_hour.values)\n",
        "plt.title('Fraudulent Transaction Count by Hour of Day')\n",
        "plt.xlabel('Hour of Day')\n",
        "plt.ylabel('Number of Fraudulent Transactions')\n",
        "plt.xticks(range(0, 24)) # Ensure all hours from 0 to 23 are displayed on the x-axis\n",
        "plt.grid(True)\n",
        "plt.show()"
      ]
    },
    {
      "cell_type": "markdown",
      "metadata": {
        "id": "442f7de6"
      },
      "source": [
        "## Visualize correlation matrix\n",
        "\n",
        "### Subtask:\n",
        "Generate a heatmap of the correlation matrix of the numerical features to understand the relationships between variables.\n"
      ]
    },
    {
      "cell_type": "markdown",
      "metadata": {
        "id": "f37d36c0"
      },
      "source": [
        "**Reasoning**:\n",
        "Calculate the correlation matrix for the numerical features and create a heatmap to visualize the relationships.\n",
        "\n"
      ]
    },
    {
      "cell_type": "code",
      "execution_count": null,
      "metadata": {
        "id": "137df03d"
      },
      "outputs": [],
      "source": [
        "correlation_matrix = X_processed_df.corr()\n",
        "\n",
        "plt.figure(figsize=(10, 8))\n",
        "sns.heatmap(correlation_matrix, annot=True, fmt=\".2f\", cmap='coolwarm')\n",
        "plt.title('Correlation Matrix of Numerical Features')\n",
        "plt.show()"
      ]
    },
    {
      "cell_type": "markdown",
      "metadata": {
        "id": "6f20cb9e"
      },
      "source": [
        "## Summary:\n",
        "\n",
        "### Data Analysis Key Findings\n",
        "\n",
        "*   The distribution of transaction types is skewed, with certain types occurring more frequently than others.\n",
        "*   Fraudulent transactions are concentrated within specific transaction types, namely CASH_OUT and TRANSFER.\n",
        "*   Transaction amounts have a wide range, necessitating logarithmic scales for effective visualization of their distribution.\n",
        "*   The distribution of transaction amounts differs significantly between fraudulent and non-fraudulent transactions, with fraudulent transactions tending to have a different amount profile.\n",
        "*   Visualizing the relationship between old and new balances for both originator and destination accounts, particularly using density plots or log transformations, reveals patterns in how balances change during transactions.\n",
        "*   The calculated error in originator and destination balances (`errorBalanceOrg` and `errorBalanceDest`) shows distinct distributions for fraudulent transactions compared to normal ones. `errorBalanceDest` for normal transactions is heavily concentrated at zero, while fraudulent transactions show a wider spread.\n",
        "*   The volume of transactions varies throughout the hour of the day, showing peaks and troughs.\n",
        "*   Fraudulent transactions also show a pattern related to the hour of the day, concentrating during specific hours.\n",
        "*   The correlation matrix reveals the linear relationships between numerical features, highlighting potentially correlated variables.\n",
        "\n",
        "### Insights or Next Steps\n",
        "\n",
        "*   Focus fraud detection efforts on CASH\\_OUT and TRANSFER transaction types, as these account for the majority of fraudulent activity.\n",
        "*   Investigate the distinct patterns observed in transaction amounts and balance errors for fraudulent transactions further, as these features appear to be strong indicators of fraud.\n"
      ]
    }
  ],
  "metadata": {
    "colab": {
      "private_outputs": true,
      "provenance": []
    },
    "kernelspec": {
      "display_name": "Python 3",
      "name": "python3"
    },
    "language_info": {
      "name": "python"
    }
  },
  "nbformat": 4,
  "nbformat_minor": 0
}
